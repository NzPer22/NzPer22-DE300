{
 "cells": [
  {
   "cell_type": "code",
   "execution_count": 1,
   "id": "59e21c7d-34f0-4d18-93f1-be384169578e",
   "metadata": {},
   "outputs": [
    {
     "name": "stdout",
     "output_type": "stream",
     "text": [
      "Collecting cassandra-sigv4\n",
      "  Using cached cassandra_sigv4-4.0.2-py2.py3-none-any.whl.metadata (5.9 kB)\n",
      "Collecting cassandra-driver (from cassandra-sigv4)\n",
      "  Using cached cassandra_driver-3.29.2-cp311-cp311-manylinux_2_17_x86_64.manylinux2014_x86_64.whl.metadata (6.2 kB)\n",
      "Collecting boto3 (from cassandra-sigv4)\n",
      "  Using cached boto3-1.38.7-py3-none-any.whl.metadata (6.6 kB)\n",
      "Requirement already satisfied: six in /opt/conda/lib/python3.11/site-packages (from cassandra-sigv4) (1.16.0)\n",
      "Collecting botocore<1.39.0,>=1.38.7 (from boto3->cassandra-sigv4)\n",
      "  Using cached botocore-1.38.7-py3-none-any.whl.metadata (5.7 kB)\n",
      "Collecting jmespath<2.0.0,>=0.7.1 (from boto3->cassandra-sigv4)\n",
      "  Using cached jmespath-1.0.1-py3-none-any.whl.metadata (7.6 kB)\n",
      "Collecting s3transfer<0.13.0,>=0.12.0 (from boto3->cassandra-sigv4)\n",
      "  Using cached s3transfer-0.12.0-py3-none-any.whl.metadata (1.7 kB)\n",
      "Collecting geomet<0.3,>=0.1 (from cassandra-driver->cassandra-sigv4)\n",
      "  Using cached geomet-0.2.1.post1-py3-none-any.whl.metadata (1.0 kB)\n",
      "Requirement already satisfied: python-dateutil<3.0.0,>=2.1 in /opt/conda/lib/python3.11/site-packages (from botocore<1.39.0,>=1.38.7->boto3->cassandra-sigv4) (2.8.2)\n",
      "Requirement already satisfied: urllib3!=2.2.0,<3,>=1.25.4 in /opt/conda/lib/python3.11/site-packages (from botocore<1.39.0,>=1.38.7->boto3->cassandra-sigv4) (2.0.7)\n",
      "Requirement already satisfied: click in /opt/conda/lib/python3.11/site-packages (from geomet<0.3,>=0.1->cassandra-driver->cassandra-sigv4) (8.1.7)\n",
      "Using cached cassandra_sigv4-4.0.2-py2.py3-none-any.whl (9.8 kB)\n",
      "Using cached boto3-1.38.7-py3-none-any.whl (139 kB)\n",
      "Using cached cassandra_driver-3.29.2-cp311-cp311-manylinux_2_17_x86_64.manylinux2014_x86_64.whl (3.9 MB)\n",
      "Using cached botocore-1.38.7-py3-none-any.whl (13.5 MB)\n",
      "Using cached geomet-0.2.1.post1-py3-none-any.whl (18 kB)\n",
      "Using cached jmespath-1.0.1-py3-none-any.whl (20 kB)\n",
      "Using cached s3transfer-0.12.0-py3-none-any.whl (84 kB)\n",
      "Installing collected packages: jmespath, geomet, cassandra-driver, botocore, s3transfer, boto3, cassandra-sigv4\n",
      "Successfully installed boto3-1.38.7 botocore-1.38.7 cassandra-driver-3.29.2 cassandra-sigv4-4.0.2 geomet-0.2.1.post1 jmespath-1.0.1 s3transfer-0.12.0\n",
      "Note: you may need to restart the kernel to use updated packages.\n"
     ]
    }
   ],
   "source": [
    "pip install cassandra-sigv4"
   ]
  },
  {
   "cell_type": "code",
   "execution_count": 2,
   "id": "7548d99c-8a5b-479e-81f4-f7818f24a9ba",
   "metadata": {},
   "outputs": [
    {
     "name": "stdout",
     "output_type": "stream",
     "text": [
      "  % Total    % Received % Xferd  Average Speed   Time    Time     Time  Current\n",
      "                                 Dload  Upload   Total   Spent    Left  Speed\n",
      "100  1468  100  1468    0     0   6076      0 --:--:-- --:--:-- --:--:--  6091\n"
     ]
    }
   ],
   "source": [
    "!curl https://certs.secureserver.net/repository/sf-class2-root.crt -O"
   ]
  },
  {
   "cell_type": "code",
   "execution_count": 3,
   "id": "3f61829a-6a45-462a-b53d-08ab82125c75",
   "metadata": {},
   "outputs": [
    {
     "name": "stderr",
     "output_type": "stream",
     "text": [
      "/tmp/ipykernel_137/332746716.py:7: DeprecationWarning: ssl.PROTOCOL_TLSv1_2 is deprecated\n",
      "  ssl_context = SSLContext(PROTOCOL_TLSv1_2)\n"
     ]
    }
   ],
   "source": [
    "from cassandra.cluster import Cluster\n",
    "from ssl import SSLContext, PROTOCOL_TLSv1_2, CERT_REQUIRED\n",
    "from cassandra_sigv4.auth import SigV4AuthProvider\n",
    "import boto3\n",
    "\n",
    "# ssl setup\n",
    "ssl_context = SSLContext(PROTOCOL_TLSv1_2)\n",
    "ssl_context.load_verify_locations('sf-class2-root.crt')  # change your file path for locating the certificate\n",
    "ssl_context.verify_mode = CERT_REQUIRED\n",
    "\n",
    "# boto3 session setup\n",
    "boto_session = boto3.Session(region_name=\"us-east-2\")  # this AWS credentials is specific to `us-east-2` region"
   ]
  },
  {
   "cell_type": "code",
   "execution_count": 4,
   "id": "3c8d16a7-e278-4159-9a8c-515f78a4f697",
   "metadata": {},
   "outputs": [],
   "source": [
    "# authorization setup with SigV4\n",
    "auth_provider = SigV4AuthProvider(boto_session)"
   ]
  },
  {
   "cell_type": "code",
   "execution_count": 5,
   "id": "32c1ef21-cbb4-41cc-a68f-88f9b03690c5",
   "metadata": {},
   "outputs": [],
   "source": [
    "#cluster setup \n",
    "cluster = Cluster(['cassandra.us-east-2.amazonaws.com'], \n",
    "                  ssl_context=ssl_context, \n",
    "                  auth_provider=auth_provider, \n",
    "                  port=9142)  # TLS only communicates on port 9142"
   ]
  },
  {
   "cell_type": "code",
   "execution_count": 6,
   "id": "d8b0864e-ada9-4c80-884c-f3f6a5b6e23b",
   "metadata": {},
   "outputs": [
    {
     "name": "stdout",
     "output_type": "stream",
     "text": [
      "[Row(keyspace_name='system_schema', durable_writes=True, replication=OrderedMapSerializedKey([('class', 'org.apache.cassandra.locator.SimpleStrategy'), ('replication_factor', '3')])), Row(keyspace_name='system_schema_mcs', durable_writes=True, replication=OrderedMapSerializedKey([('class', 'org.apache.cassandra.locator.SimpleStrategy'), ('replication_factor', '3')])), Row(keyspace_name='system', durable_writes=True, replication=OrderedMapSerializedKey([('class', 'org.apache.cassandra.locator.SimpleStrategy'), ('replication_factor', '3')])), Row(keyspace_name='system_multiregion_info', durable_writes=True, replication=OrderedMapSerializedKey([('class', 'org.apache.cassandra.locator.SimpleStrategy'), ('replication_factor', '3')])), Row(keyspace_name='de300_axc4282', durable_writes=True, replication=OrderedMapSerializedKey([('class', 'org.apache.cassandra.locator.SimpleStrategy'), ('replication_factor', '3')])), Row(keyspace_name='de300_demo', durable_writes=True, replication=OrderedMapSerializedKey([('class', 'org.apache.cassandra.locator.SimpleStrategy'), ('replication_factor', '3')])), Row(keyspace_name='de300_lab4', durable_writes=True, replication=OrderedMapSerializedKey([('class', 'org.apache.cassandra.locator.SimpleStrategy'), ('replication_factor', '3')])), Row(keyspace_name='de300_lrg4668', durable_writes=True, replication=OrderedMapSerializedKey([('class', 'org.apache.cassandra.locator.SimpleStrategy'), ('replication_factor', '3')])), Row(keyspace_name='de300_sabian_lab4', durable_writes=True, replication=OrderedMapSerializedKey([('class', 'org.apache.cassandra.locator.SimpleStrategy'), ('replication_factor', '3')])), Row(keyspace_name='de300_ttk6623', durable_writes=True, replication=OrderedMapSerializedKey([('class', 'org.apache.cassandra.locator.SimpleStrategy'), ('replication_factor', '3')])), Row(keyspace_name='new2713', durable_writes=True, replication=OrderedMapSerializedKey([('class', 'org.apache.cassandra.locator.SimpleStrategy'), ('replication_factor', '3')])), Row(keyspace_name='ryan_beam', durable_writes=True, replication=OrderedMapSerializedKey([('class', 'org.apache.cassandra.locator.SimpleStrategy'), ('replication_factor', '3')])), Row(keyspace_name='seeley_hw2', durable_writes=True, replication=OrderedMapSerializedKey([('class', 'org.apache.cassandra.locator.SimpleStrategy'), ('replication_factor', '3')]))]\n",
      "[]\n"
     ]
    }
   ],
   "source": [
    "# establishing connection to Keyspace\n",
    "session = cluster.connect()\n",
    "# Insert any CQL queries between .connect() and .shutdown()\n",
    "\n",
    "# For example, show all keyspaces created\n",
    "r = session.execute('''\n",
    "    SELECT * FROM system_schema.keyspaces;\n",
    "    ''')\n",
    "print(r.current_rows)\n",
    "\n",
    "# For example, create a keyspace for HW2\n",
    "r = session.execute('''\n",
    "    CREATE KEYSPACE IF NOT EXISTS de300_demo \n",
    "    WITH replication = {'class': 'SingleRegionStrategy'};\n",
    "    ''')\n",
    "print(r.current_rows)"
   ]
  },
  {
   "cell_type": "code",
   "execution_count": 7,
   "id": "d1bbea2e-0bb0-4640-81d3-42580070ab4a",
   "metadata": {},
   "outputs": [],
   "source": [
    "# Exercises"
   ]
  },
  {
   "cell_type": "code",
   "execution_count": 8,
   "id": "d535acda-20bd-4c7f-af9d-da62a39ae14e",
   "metadata": {},
   "outputs": [],
   "source": [
    "from cassandra.cluster import ExecutionProfile, EXEC_PROFILE_DEFAULT\n",
    "from cassandra import ConsistencyLevel\n",
    "\n",
    "\n",
    "# Define execution profile with LOCAL_QUORUM\n",
    "execution_profile = ExecutionProfile(\n",
    "    consistency_level=ConsistencyLevel.LOCAL_QUORUM\n",
    ")\n",
    "\n",
    "# Cluster setup with correct profile\n",
    "cluster = Cluster(\n",
    "    ['cassandra.us-east-2.amazonaws.com'],\n",
    "    ssl_context=ssl_context,\n",
    "    auth_provider=auth_provider,\n",
    "    port=9142,\n",
    "    execution_profiles={EXEC_PROFILE_DEFAULT: execution_profile}\n",
    ")\n",
    "\n",
    "# establishing connection to Keyspace\n",
    "session = cluster.connect()\n",
    "session.set_keyspace('de300_demo')  # Replace with your keyspace"
   ]
  },
  {
   "cell_type": "code",
   "execution_count": 9,
   "id": "f47eeed7-1de1-4766-9b36-e05fc7310579",
   "metadata": {},
   "outputs": [
    {
     "data": {
      "text/plain": [
       "<cassandra.cluster.ResultSet at 0x76ce585c0790>"
      ]
     },
     "execution_count": 9,
     "metadata": {},
     "output_type": "execute_result"
    }
   ],
   "source": [
    "session.execute(\"\"\"\n",
    "CREATE TABLE IF NOT EXISTS github (\n",
    "    id UUID PRIMARY KEY,\n",
    "    name TEXT,\n",
    "    username TEXT\n",
    ")\n",
    "\"\"\")"
   ]
  },
  {
   "cell_type": "code",
   "execution_count": 10,
   "id": "0efdca30-7cf0-4364-ab6b-5db454221609",
   "metadata": {},
   "outputs": [
    {
     "data": {
      "text/plain": [
       "<cassandra.cluster.ResultSet at 0x76ce5b3a9510>"
      ]
     },
     "execution_count": 10,
     "metadata": {},
     "output_type": "execute_result"
    }
   ],
   "source": [
    "import uuid\n",
    "\n",
    "session.execute(\"\"\"\n",
    "    INSERT INTO github (id, name, username)\n",
    "    VALUES (%s, %s, %s)\n",
    "\"\"\", (uuid.uuid4(), \"Your_Name\", \"Your_GitHub_Username\"))\n",
    "\n",
    "# Replace \"Your_Name\" with your name\n",
    "# Replace \"Your_GitHub_User_Name\" with your real GitHub User"
   ]
  },
  {
   "cell_type": "code",
   "execution_count": 11,
   "id": "5090d76e-7b48-4da1-ad7a-7aa08b9a64c9",
   "metadata": {},
   "outputs": [],
   "source": [
    "import csv\n",
    "\n",
    "rows = session.execute(\"SELECT * FROM github\")\n",
    "with open(\"github.csv\", \"w\", newline=\"\") as f:\n",
    "    writer = csv.writer(f)\n",
    "    writer.writerow([\"id\", \"name\", \"username\"])\n",
    "    for row in rows:\n",
    "        writer.writerow([row.id, row.name, row.username])"
   ]
  },
  {
   "cell_type": "code",
   "execution_count": 12,
   "id": "66548769-4f0c-443e-ba80-78b25486ce9c",
   "metadata": {},
   "outputs": [],
   "source": [
    "session.shutdown()"
   ]
  }
 ],
 "metadata": {
  "kernelspec": {
   "display_name": "Python 3 (ipykernel)",
   "language": "python",
   "name": "python3"
  },
  "language_info": {
   "codemirror_mode": {
    "name": "ipython",
    "version": 3
   },
   "file_extension": ".py",
   "mimetype": "text/x-python",
   "name": "python",
   "nbconvert_exporter": "python",
   "pygments_lexer": "ipython3",
   "version": "3.11.6"
  }
 },
 "nbformat": 4,
 "nbformat_minor": 5
}
